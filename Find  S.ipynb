{
 "cells": [
  {
   "cell_type": "code",
   "execution_count": 5,
   "id": "a0e6d439-a8fe-4579-8072-95456006447b",
   "metadata": {},
   "outputs": [
    {
     "name": "stdout",
     "output_type": "stream",
     "text": [
      "     Sky AirTemp Humidity    Wind Water Forecast EnjoySport\n",
      "0  Sunny    Warm   Normal  Strong  Warm     Same        yes\n",
      "1  Sunny    Warm     High  Strong  Warm     Same        yes\n",
      "2  Rainy    Cold     High  Strong  Warm   Change         no\n",
      "3  Sunny    Warm     High  Strong  Cool   Change        yes\n",
      "\n",
      "Shape of data set:-  (4, 7)\n",
      "\n",
      "Features in the dataset:\n",
      " [['Sunny' 'Warm' 'Normal' 'Strong' 'Warm' 'Same']\n",
      " ['Sunny' 'Warm' 'High' 'Strong' 'Warm' 'Same']\n",
      " ['Rainy' 'Cold' 'High' 'Strong' 'Warm' 'Change']\n",
      " ['Sunny' 'Warm' 'High' 'Strong' 'Cool' 'Change']]\n",
      "\n",
      "Shape of Features:- \n",
      " (4, 6)\n",
      "\n",
      "Target Concept\n",
      " ['yes' 'yes' 'no' 'yes']\n",
      "\n",
      "Shape of the target :- \n",
      " (4,)\n",
      "['Sunny' 'Warm' 'Normal' 'Strong' 'Warm' 'Same']\n",
      "\n",
      "\n",
      "Final hypothesis: ['Sunny' 'Warm' '?' 'Strong' '?' '?']\n"
     ]
    }
   ],
   "source": [
    "import pandas as pd\n",
    "import numpy as np\n",
    "\n",
    " # To read the data in the CSV file\n",
    "df = pd.read_csv(\"ws.csv\")\n",
    "print(df)\n",
    "print(\"\\nShape of data set:- \", df.shape)\n",
    "\n",
    "# Extract features and target from the dataset\n",
    "features = np.array(df)[:, :-1]\n",
    "\n",
    "print(\"\\nFeatures in the dataset:\\n\", features)\n",
    "print(\"\\nShape of Features:- \\n\", features.shape)\n",
    "\n",
    "target = np.array(df)[:, -1]\n",
    "print(\"\\nTarget Concept\\n\", target)\n",
    "print(\"\\nShape of the target :- \\n\", target.shape)\n",
    "\n",
    " # Initialize hypothesis\n",
    "hypothesis = None\n",
    "for i in range(len(target)):\n",
    "    if target[i] == 'yes':\n",
    "        hypothesis = features[i].copy()\n",
    "        break\n",
    "print(hypothesis)\n",
    "\n",
    " # Update the hypothesis\n",
    "for i in range(len(features)): #len(features) = row\n",
    "    if target[i] == 'yes':\n",
    "        for x in range(len(hypothesis)):\n",
    "            if features[i][x] != hypothesis[x]:\n",
    "                hypothesis[x] = '?'\n",
    "                \n",
    "print(\"\\n\\nFinal hypothesis:\", hypothesis)"
   ]
  },
  {
   "cell_type": "code",
   "execution_count": null,
   "id": "17201943-a3c7-4b40-810c-af8547fa11da",
   "metadata": {},
   "outputs": [],
   "source": []
  }
 ],
 "metadata": {
  "kernelspec": {
   "display_name": "Python 3 (ipykernel)",
   "language": "python",
   "name": "python3"
  },
  "language_info": {
   "codemirror_mode": {
    "name": "ipython",
    "version": 3
   },
   "file_extension": ".py",
   "mimetype": "text/x-python",
   "name": "python",
   "nbconvert_exporter": "python",
   "pygments_lexer": "ipython3",
   "version": "3.11.7"
  }
 },
 "nbformat": 4,
 "nbformat_minor": 5
}
